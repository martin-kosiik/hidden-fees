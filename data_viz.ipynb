{
 "cells": [
  {
   "cell_type": "markdown",
   "metadata": {},
   "source": [
    "# Hidden fees"
   ]
  },
  {
   "cell_type": "markdown",
   "metadata": {},
   "source": [
    " Import necessary packages"
   ]
  },
  {
   "cell_type": "code",
   "execution_count": 1,
   "metadata": {},
   "outputs": [],
   "source": [
    "import numpy as np\n",
    "import pandas as pd\n",
    "import requests\n",
    "import datetime\n",
    "from scrapy import Selector"
   ]
  },
  {
   "cell_type": "markdown",
   "metadata": {},
   "source": [
    "Import necessary Bokeh functions.\n",
    "\n",
    "*Note:* To install Bokeh, run `conda install bokeh` in your Anaconda prompt"
   ]
  },
  {
   "cell_type": "code",
   "execution_count": 2,
   "metadata": {},
   "outputs": [],
   "source": [
    "from bokeh.io import output_file, show, output_notebook, curdoc\n",
    "from bokeh.plotting import figure\n",
    "from bokeh.models import CategoricalColorMapper, ColumnDataSource, CustomJS, Select, NumeralTickFormatter, HoverTool, FactorRange\n",
    "from bokeh.layouts import widgetbox, column, row\n",
    "from bokeh.models.widgets import RadioButtonGroup, DataTable, TableColumn, NumberFormatter, TextInput, Div\n",
    "from bokeh.transform import dodge\n",
    "from bokeh.core.properties import value"
   ]
  },
  {
   "cell_type": "markdown",
   "metadata": {},
   "source": [
    "We merge the exchange rates offered by banks with market rates and save the results."
   ]
  },
  {
   "cell_type": "code",
   "execution_count": 4,
   "metadata": {},
   "outputs": [],
   "source": [
    "bank_rates = pd.read_csv(\"bank_rates.csv\", encoding='utf-8', names=[\"from\", \"to\", \"rate\", \"bank\", \"date\"], header = None)\n",
    "bank_rates.rate = bank_rates.rate.astype(float)\n",
    "\n",
    "market_rates = pd.read_csv(\"market_rates.csv\", encoding='utf-8', names=[\"from\", \"to\", \"market_rate\",\"date\"], header=None)\n",
    "market_rates.market_rate = market_rates.market_rate.astype(float)\n",
    "\n",
    "merged = pd.merge(bank_rates, market_rates, how = \"left\", on = [\"from\", \"to\", \"date\"])\n",
    "merged[\"hidden_fee\"] = merged[\"market_rate\"] - merged[\"rate\"]\n",
    "merged = merged.drop_duplicates()\n",
    "merged.to_csv(\"merged_df.csv\", encoding='utf-8', index=False)\n"
   ]
  },
  {
   "cell_type": "markdown",
   "metadata": {},
   "source": [
    "## Analysis of hidden fees\n",
    "Here we test what factors predict the amount of hidden fees. First, we define fee markup variable that gives us the fee as a precentage of the current mid-market rate. This enables us to compare hidden fees across different exchange rate routes and banks. "
   ]
  },
  {
   "cell_type": "code",
   "execution_count": 5,
   "metadata": {},
   "outputs": [],
   "source": [
    "merged[\"fee_markup\"] = merged[\"hidden_fee\"]/merged[\"market_rate\"] * 100"
   ]
  },
  {
   "cell_type": "markdown",
   "metadata": {},
   "source": [
    "Second, we calculate average fee markup and coefficient of variation in the mid-market exchange for each route and bank."
   ]
  },
  {
   "cell_type": "code",
   "execution_count": 6,
   "metadata": {},
   "outputs": [
    {
     "data": {
      "text/html": [
       "<div>\n",
       "<style scoped>\n",
       "    .dataframe tbody tr th:only-of-type {\n",
       "        vertical-align: middle;\n",
       "    }\n",
       "\n",
       "    .dataframe tbody tr th {\n",
       "        vertical-align: top;\n",
       "    }\n",
       "\n",
       "    .dataframe thead th {\n",
       "        text-align: right;\n",
       "    }\n",
       "</style>\n",
       "<table border=\"1\" class=\"dataframe\">\n",
       "  <thead>\n",
       "    <tr style=\"text-align: right;\">\n",
       "      <th></th>\n",
       "      <th>from</th>\n",
       "      <th>to</th>\n",
       "      <th>bank</th>\n",
       "      <th>fee_markup</th>\n",
       "      <th>market_rate</th>\n",
       "    </tr>\n",
       "  </thead>\n",
       "  <tbody>\n",
       "    <tr>\n",
       "      <th>0</th>\n",
       "      <td>AUD</td>\n",
       "      <td>CZK</td>\n",
       "      <td>Fio banka</td>\n",
       "      <td>2.464499</td>\n",
       "      <td>0.965001</td>\n",
       "    </tr>\n",
       "    <tr>\n",
       "      <th>1</th>\n",
       "      <td>AUD</td>\n",
       "      <td>CZK</td>\n",
       "      <td>Komerční banka</td>\n",
       "      <td>2.766920</td>\n",
       "      <td>0.965001</td>\n",
       "    </tr>\n",
       "    <tr>\n",
       "      <th>2</th>\n",
       "      <td>AUD</td>\n",
       "      <td>CZK</td>\n",
       "      <td>Raiffeisenbank</td>\n",
       "      <td>3.116176</td>\n",
       "      <td>0.965001</td>\n",
       "    </tr>\n",
       "    <tr>\n",
       "      <th>3</th>\n",
       "      <td>AUD</td>\n",
       "      <td>CZK</td>\n",
       "      <td>mBank</td>\n",
       "      <td>2.995142</td>\n",
       "      <td>0.965001</td>\n",
       "    </tr>\n",
       "    <tr>\n",
       "      <th>4</th>\n",
       "      <td>AUD</td>\n",
       "      <td>CZK</td>\n",
       "      <td>ČSOB</td>\n",
       "      <td>2.561096</td>\n",
       "      <td>0.959612</td>\n",
       "    </tr>\n",
       "    <tr>\n",
       "      <th>5</th>\n",
       "      <td>AUD</td>\n",
       "      <td>CZK</td>\n",
       "      <td>Česká spořitelna</td>\n",
       "      <td>2.494193</td>\n",
       "      <td>0.950286</td>\n",
       "    </tr>\n",
       "    <tr>\n",
       "      <th>6</th>\n",
       "      <td>AUD</td>\n",
       "      <td>EUR</td>\n",
       "      <td>Slovenská sporiteľňa</td>\n",
       "      <td>1.448194</td>\n",
       "      <td>1.097144</td>\n",
       "    </tr>\n",
       "    <tr>\n",
       "      <th>7</th>\n",
       "      <td>AUD</td>\n",
       "      <td>EUR</td>\n",
       "      <td>Tatra banka</td>\n",
       "      <td>1.394964</td>\n",
       "      <td>1.095938</td>\n",
       "    </tr>\n",
       "    <tr>\n",
       "      <th>8</th>\n",
       "      <td>AUD</td>\n",
       "      <td>EUR</td>\n",
       "      <td>VÚB banka</td>\n",
       "      <td>1.468966</td>\n",
       "      <td>1.095938</td>\n",
       "    </tr>\n",
       "    <tr>\n",
       "      <th>9</th>\n",
       "      <td>AUD</td>\n",
       "      <td>HUF</td>\n",
       "      <td>OTP Bank</td>\n",
       "      <td>1.016527</td>\n",
       "      <td>0.561851</td>\n",
       "    </tr>\n",
       "  </tbody>\n",
       "</table>\n",
       "</div>"
      ],
      "text/plain": [
       "  from   to                  bank  fee_markup  market_rate\n",
       "0  AUD  CZK             Fio banka    2.464499     0.965001\n",
       "1  AUD  CZK        Komerční banka    2.766920     0.965001\n",
       "2  AUD  CZK        Raiffeisenbank    3.116176     0.965001\n",
       "3  AUD  CZK                 mBank    2.995142     0.965001\n",
       "4  AUD  CZK                  ČSOB    2.561096     0.959612\n",
       "5  AUD  CZK      Česká spořitelna    2.494193     0.950286\n",
       "6  AUD  EUR  Slovenská sporiteľňa    1.448194     1.097144\n",
       "7  AUD  EUR           Tatra banka    1.394964     1.095938\n",
       "8  AUD  EUR             VÚB banka    1.468966     1.095938\n",
       "9  AUD  HUF              OTP Bank    1.016527     0.561851"
      ]
     },
     "execution_count": 6,
     "metadata": {},
     "output_type": "execute_result"
    }
   ],
   "source": [
    "def coef_of_var(x):\n",
    "    return np.std(x)/np.mean(x) * 100\n",
    "\n",
    "avg_fees = merged.groupby([\"from\", \"to\", \"bank\"], as_index = False).agg({\"fee_markup\": np.mean, \"market_rate\": coef_of_var})\n",
    "avg_fees.head(10)"
   ]
  },
  {
   "cell_type": "markdown",
   "metadata": {},
   "source": [
    "##### Import the plotnine package\n",
    "\n",
    "*Note:* To install plotnine either run `conda install -c conda-forge plotnine` or run `pip install plotnine` in the shell."
   ]
  },
  {
   "cell_type": "code",
   "execution_count": 7,
   "metadata": {},
   "outputs": [],
   "source": [
    "from plotnine import *"
   ]
  },
  {
   "cell_type": "markdown",
   "metadata": {},
   "source": [
    "##### Histogram of hidden fee markups"
   ]
  },
  {
   "cell_type": "code",
   "execution_count": 8,
   "metadata": {},
   "outputs": [
    {
     "data": {
      "image/png": "[encoded data removed]",
      "text/plain": [
       "<Figure size 640x480 with 1 Axes>"
      ]
     },
     "metadata": {
      "needs_background": "light"
     },
     "output_type": "display_data"
    },
    {
     "data": {
      "text/plain": [
       "<ggplot: (-9223371915389638512)>"
      ]
     },
     "execution_count": 8,
     "metadata": {},
     "output_type": "execute_result"
    }
   ],
   "source": [
    "(ggplot(merged, aes(x = \"fee_markup\", fill = \"bank\")) +\n",
    " geom_histogram(bins = 93) + \n",
    " labs(x = \"Fee markup (in percent)\") + \n",
    " theme_minimal())"
   ]
  },
  {
   "cell_type": "markdown",
   "metadata": {},
   "source": [
    "The following plot shows that there are substantial differences in size of hidden fees across banks. Interstingly, the Czech bank appear to have higher markups compared to the Slovakian banks (VÚB banka, Tatra banka, Slovenská sporiteľňa) and one Hungarian bank (OTP bank) in the dataset."
   ]
  },
  {
   "cell_type": "code",
   "execution_count": 9,
   "metadata": {},
   "outputs": [
    {
     "data": {
      "image/png": "[encoded data removed]",
      "text/plain": [
       "<Figure size 640x480 with 1 Axes>"
      ]
     },
     "metadata": {
      "needs_background": "light"
     },
     "output_type": "display_data"
    },
    {
     "data": {
      "text/plain": [
       "<ggplot: (-9223371915388593415)>"
      ]
     },
     "execution_count": 9,
     "metadata": {},
     "output_type": "execute_result"
    }
   ],
   "source": [
    "(ggplot(avg_fees, aes(x = \"bank\", y = \"fee_markup\")) +\n",
    " geom_point(alpha = 0.4) + \n",
    " geom_jitter() + \n",
    " coord_flip() + \n",
    " labs(y = \"Fee markup (in percent)\", title = \"Fee markups by bank\") + \n",
    " theme_minimal())"
   ]
  },
  {
   "cell_type": "markdown",
   "metadata": {},
   "source": [
    "Below, we create a scatter plot showing the relation between the market exchange rate volatility and hidden fee markups together with a best-fit line from simple linear regression model. We can see that the relation appears to be positive, although the market rate seems to explain only small fraction of variation in fee markups. Furthermore, the plot suggests that there might be heteroskedaticity present in the model.  "
   ]
  },
  {
   "cell_type": "code",
   "execution_count": 10,
   "metadata": {
    "scrolled": false
   },
   "outputs": [
    {
     "data": {
      "image/png": "[encoded data removed]",
      "text/plain": [
       "<Figure size 640x480 with 1 Axes>"
      ]
     },
     "metadata": {
      "needs_background": "light"
     },
     "output_type": "display_data"
    },
    {
     "data": {
      "text/plain": [
       "<ggplot: (-9223371915388464608)>"
      ]
     },
     "execution_count": 10,
     "metadata": {},
     "output_type": "execute_result"
    }
   ],
   "source": [
    "(ggplot(avg_fees, aes(x = \"market_rate\", y = \"fee_markup\")) +\n",
    " geom_point(alpha = 0.6) + \n",
    " geom_smooth(method = \"lm\", color = \"blue\") + \n",
    " labs(y = \"Fee markup (in percent)\", x = \"Coefficient of variation of market rate (in percent)\", \n",
    "      title = \"Relation between rate volatility and fee markups\") + \n",
    " theme_minimal())"
   ]
  },
  {
   "cell_type": "markdown",
   "metadata": {},
   "source": [
    "#### Bank vs market rate comparisons by bank"
   ]
  },
  {
   "cell_type": "markdown",
   "metadata": {},
   "source": [
    "We load the BokehJS notebook"
   ]
  },
  {
   "cell_type": "code",
   "execution_count": 11,
   "metadata": {},
   "outputs": [
    {
     "data": {
      "text/html": [
       "\n",
       "    <div class=\"bk-root\">\n",
       "        <a href=\"https://bokeh.pydata.org\" target=\"_blank\" class=\"bk-logo bk-logo-small bk-logo-notebook\"></a>\n",
       "        <span id=\"1001\">Loading BokehJS ...</span>\n",
       "    </div>"
      ]
     },
     "metadata": {},
     "output_type": "display_data"
    },
    {
     "data": {
      "application/javascript": [
       "\n",
       "(function(root) {\n",
       "  function now() {\n",
       "    return new Date();\n",
       "  }\n",
       "\n",
       "  var force = true;\n",
       "\n",
       "  if (typeof (root._bokeh_onload_callbacks) === \"undefined\" || force === true) {\n",
       "    root._bokeh_onload_callbacks = [];\n",
       "    root._bokeh_is_loading = undefined;\n",
       "  }\n",
       "\n",
       "  var JS_MIME_TYPE = 'application/javascript';\n",
       "  var HTML_MIME_TYPE = 'text/html';\n",
       "  var EXEC_MIME_TYPE = 'application/vnd.bokehjs_exec.v0+json';\n",
       "  var CLASS_NAME = 'output_bokeh rendered_html';\n",
       "\n",
       "  /**\n",
       "   * Render data to the DOM node\n",
       "   */\n",
       "  function render(props, node) {\n",
       "    var script = document.createElement(\"script\");\n",
       "    node.appendChild(script);\n",
       "  }\n",
       "\n",
       "  /**\n",
       "   * Handle when an output is cleared or removed\n",
       "   */\n",
       "  function handleClearOutput(event, handle) {\n",
       "    var cell = handle.cell;\n",
       "\n",
       "    var id = cell.output_area._bokeh_element_id;\n",
       "    var server_id = cell.output_area._bokeh_server_id;\n",
       "    // Clean up Bokeh references\n",
       "    if (id != null && id in Bokeh.index) {\n",
       "      Bokeh.index[id].model.document.clear();\n",
       "      delete Bokeh.index[id];\n",
       "    }\n",
       "\n",
       "    if (server_id !== undefined) {\n",
       "      // Clean up Bokeh references\n",
       "      var cmd = \"from bokeh.io.state import curstate; print(curstate().uuid_to_server['\" + server_id + \"'].get_sessions()[0].document.roots[0]._id)\";\n",
       "      cell.notebook.kernel.execute(cmd, {\n",
       "        iopub: {\n",
       "          output: function(msg) {\n",
       "            var id = msg.content.text.trim();\n",
       "            if (id in Bokeh.index) {\n",
       "              Bokeh.index[id].model.document.clear();\n",
       "              delete Bokeh.index[id];\n",
       "            }\n",
       "          }\n",
       "        }\n",
       "      });\n",
       "      // Destroy server and session\n",
       "      var cmd = \"import bokeh.io.notebook as ion; ion.destroy_server('\" + server_id + \"')\";\n",
       "      cell.notebook.kernel.execute(cmd);\n",
       "    }\n",
       "  }\n",
       "\n",
       "  /**\n",
       "   * Handle when a new output is added\n",
       "   */\n",
       "  function handleAddOutput(event, handle) {\n",
       "    var output_area = handle.output_area;\n",
       "    var output = handle.output;\n",
       "\n",
       "    // limit handleAddOutput to display_data with EXEC_MIME_TYPE content only\n",
       "    if ((output.output_type != \"display_data\") || (!output.data.hasOwnProperty(EXEC_MIME_TYPE))) {\n",
       "      return\n",
       "    }\n",
       "\n",
       "    var toinsert = output_area.element.find(\".\" + CLASS_NAME.split(' ')[0]);\n",
       "\n",
       "    if (output.metadata[EXEC_MIME_TYPE][\"id\"] !== undefined) {\n",
       "      toinsert[toinsert.length - 1].firstChild.textContent = output.data[JS_MIME_TYPE];\n",
       "      // store reference to embed id on output_area\n",
       "      output_area._bokeh_element_id = output.metadata[EXEC_MIME_TYPE][\"id\"];\n",
       "    }\n",
       "    if (output.metadata[EXEC_MIME_TYPE][\"server_id\"] !== undefined) {\n",
       "      var bk_div = document.createElement(\"div\");\n",
       "      bk_div.innerHTML = output.data[HTML_MIME_TYPE];\n",
       "      var script_attrs = bk_div.children[0].attributes;\n",
       "      for (var i = 0; i < script_attrs.length; i++) {\n",
       "        toinsert[toinsert.length - 1].firstChild.setAttribute(script_attrs[i].name, script_attrs[i].value);\n",
       "      }\n",
       "      // store reference to server id on output_area\n",
       "      output_area._bokeh_server_id = output.metadata[EXEC_MIME_TYPE][\"server_id\"];\n",
       "    }\n",
       "  }\n",
       "\n",
       "  function register_renderer(events, OutputArea) {\n",
       "\n",
       "    function append_mime(data, metadata, element) {\n",
       "      // create a DOM node to render to\n",
       "      var toinsert = this.create_output_subarea(\n",
       "        metadata,\n",
       "        CLASS_NAME,\n",
       "        EXEC_MIME_TYPE\n",
       "      );\n",
       "      this.keyboard_manager.register_events(toinsert);\n",
       "      // Render to node\n",
       "      var props = {data: data, metadata: metadata[EXEC_MIME_TYPE]};\n",
       "      render(props, toinsert[toinsert.length - 1]);\n",
       "      element.append(toinsert);\n",
       "      return toinsert\n",
       "    }\n",
       "\n",
       "    /* Handle when an output is cleared or removed */\n",
       "    events.on('clear_output.CodeCell', handleClearOutput);\n",
       "    events.on('delete.Cell', handleClearOutput);\n",
       "\n",
       "    /* Handle when a new output is added */\n",
       "    events.on('output_added.OutputArea', handleAddOutput);\n",
       "\n",
       "    /**\n",
       "     * Register the mime type and append_mime function with output_area\n",
       "     */\n",
       "    OutputArea.prototype.register_mime_type(EXEC_MIME_TYPE, append_mime, {\n",
       "      /* Is output safe? */\n",
       "      safe: true,\n",
       "      /* Index of renderer in `output_area.display_order` */\n",
       "      index: 0\n",
       "    });\n",
       "  }\n",
       "\n",
       "  // register the mime type if in Jupyter Notebook environment and previously unregistered\n",
       "  if (root.Jupyter !== undefined) {\n",
       "    var events = require('base/js/events');\n",
       "    var OutputArea = require('notebook/js/outputarea').OutputArea;\n",
       "\n",
       "    if (OutputArea.prototype.mime_types().indexOf(EXEC_MIME_TYPE) == -1) {\n",
       "      register_renderer(events, OutputArea);\n",
       "    }\n",
       "  }\n",
       "\n",
       "  \n",
       "  if (typeof (root._bokeh_timeout) === \"undefined\" || force === true) {\n",
       "    root._bokeh_timeout = Date.now() + 5000;\n",
       "    root._bokeh_failed_load = false;\n",
       "  }\n",
       "\n",
       "  var NB_LOAD_WARNING = {'data': {'text/html':\n",
       "     \"<div style='background-color: #fdd'>\\n\"+\n",
       "     \"<p>\\n\"+\n",
       "     \"BokehJS does not appear to have successfully loaded. If loading BokehJS from CDN, this \\n\"+\n",
       "     \"may be due to a slow or bad network connection. Possible fixes:\\n\"+\n",
       "     \"</p>\\n\"+\n",
       "     \"<ul>\\n\"+\n",
       "     \"<li>re-rerun `output_notebook()` to attempt to load from CDN again, or</li>\\n\"+\n",
       "     \"<li>use INLINE resources instead, as so:</li>\\n\"+\n",
       "     \"</ul>\\n\"+\n",
       "     \"<code>\\n\"+\n",
       "     \"from bokeh.resources import INLINE\\n\"+\n",
       "     \"output_notebook(resources=INLINE)\\n\"+\n",
       "     \"</code>\\n\"+\n",
       "     \"</div>\"}};\n",
       "\n",
       "  function display_loaded() {\n",
       "    var el = document.getElementById(\"1001\");\n",
       "    if (el != null) {\n",
       "      el.textContent = \"BokehJS is loading...\";\n",
       "    }\n",
       "    if (root.Bokeh !== undefined) {\n",
       "      if (el != null) {\n",
       "        el.textContent = \"BokehJS \" + root.Bokeh.version + \" successfully loaded.\";\n",
       "      }\n",
       "    } else if (Date.now() < root._bokeh_timeout) {\n",
       "      setTimeout(display_loaded, 100)\n",
       "    }\n",
       "  }\n",
       "\n",
       "\n",
       "  function run_callbacks() {\n",
       "    try {\n",
       "      root._bokeh_onload_callbacks.forEach(function(callback) { callback() });\n",
       "    }\n",
       "    finally {\n",
       "      delete root._bokeh_onload_callbacks\n",
       "    }\n",
       "    console.info(\"Bokeh: all callbacks have finished\");\n",
       "  }\n",
       "\n",
       "  function load_libs(js_urls, callback) {\n",
       "    root._bokeh_onload_callbacks.push(callback);\n",
       "    if (root._bokeh_is_loading > 0) {\n",
       "      console.log(\"Bokeh: BokehJS is being loaded, scheduling callback at\", now());\n",
       "      return null;\n",
       "    }\n",
       "    if (js_urls == null || js_urls.length === 0) {\n",
       "      run_callbacks();\n",
       "      return null;\n",
       "    }\n",
       "    console.log(\"Bokeh: BokehJS not loaded, scheduling load and callback at\", now());\n",
       "    root._bokeh_is_loading = js_urls.length;\n",
       "    for (var i = 0; i < js_urls.length; i++) {\n",
       "      var url = js_urls[i];\n",
       "      var s = document.createElement('script');\n",
       "      s.src = url;\n",
       "      s.async = false;\n",
       "      s.onreadystatechange = s.onload = function() {\n",
       "        root._bokeh_is_loading--;\n",
       "        if (root._bokeh_is_loading === 0) {\n",
       "          console.log(\"Bokeh: all BokehJS libraries loaded\");\n",
       "          run_callbacks()\n",
       "        }\n",
       "      };\n",
       "      s.onerror = function() {\n",
       "        console.warn(\"failed to load library \" + url);\n",
       "      };\n",
       "      console.log(\"Bokeh: injecting script tag for BokehJS library: \", url);\n",
       "      document.getElementsByTagName(\"head\")[0].appendChild(s);\n",
       "    }\n",
       "  };var element = document.getElementById(\"1001\");\n",
       "  if (element == null) {\n",
       "    console.log(\"Bokeh: ERROR: autoload.js configured with elementid '1001' but no matching script tag was found. \")\n",
       "    return false;\n",
       "  }\n",
       "\n",
       "  var js_urls = [\"https://cdn.pydata.org/bokeh/release/bokeh-1.0.2.min.js\", \"https://cdn.pydata.org/bokeh/release/bokeh-widgets-1.0.2.min.js\", \"https://cdn.pydata.org/bokeh/release/bokeh-tables-1.0.2.min.js\", \"https://cdn.pydata.org/bokeh/release/bokeh-gl-1.0.2.min.js\"];\n",
       "\n",
       "  var inline_js = [\n",
       "    function(Bokeh) {\n",
       "      Bokeh.set_log_level(\"info\");\n",
       "    },\n",
       "    \n",
       "    function(Bokeh) {\n",
       "      \n",
       "    },\n",
       "    function(Bokeh) {\n",
       "      console.log(\"Bokeh: injecting CSS: https://cdn.pydata.org/bokeh/release/bokeh-1.0.2.min.css\");\n",
       "      Bokeh.embed.inject_css(\"https://cdn.pydata.org/bokeh/release/bokeh-1.0.2.min.css\");\n",
       "      console.log(\"Bokeh: injecting CSS: https://cdn.pydata.org/bokeh/release/bokeh-widgets-1.0.2.min.css\");\n",
       "      Bokeh.embed.inject_css(\"https://cdn.pydata.org/bokeh/release/bokeh-widgets-1.0.2.min.css\");\n",
       "      console.log(\"Bokeh: injecting CSS: https://cdn.pydata.org/bokeh/release/bokeh-tables-1.0.2.min.css\");\n",
       "      Bokeh.embed.inject_css(\"https://cdn.pydata.org/bokeh/release/bokeh-tables-1.0.2.min.css\");\n",
       "    }\n",
       "  ];\n",
       "\n",
       "  function run_inline_js() {\n",
       "    \n",
       "    if ((root.Bokeh !== undefined) || (force === true)) {\n",
       "      for (var i = 0; i < inline_js.length; i++) {\n",
       "        inline_js[i].call(root, root.Bokeh);\n",
       "      }if (force === true) {\n",
       "        display_loaded();\n",
       "      }} else if (Date.now() < root._bokeh_timeout) {\n",
       "      setTimeout(run_inline_js, 100);\n",
       "    } else if (!root._bokeh_failed_load) {\n",
       "      console.log(\"Bokeh: BokehJS failed to load within specified timeout.\");\n",
       "      root._bokeh_failed_load = true;\n",
       "    } else if (force !== true) {\n",
       "      var cell = $(document.getElementById(\"1001\")).parents('.cell').data().cell;\n",
       "      cell.output_area.append_execute_result(NB_LOAD_WARNING)\n",
       "    }\n",
       "\n",
       "  }\n",
       "\n",
       "  if (root._bokeh_is_loading === 0) {\n",
       "    console.log(\"Bokeh: BokehJS loaded, going straight to plotting\");\n",
       "    run_inline_js();\n",
       "  } else {\n",
       "    load_libs(js_urls, function() {\n",
       "      console.log(\"Bokeh: BokehJS plotting callback run at\", now());\n",
       "      run_inline_js();\n",
       "    });\n",
       "  }\n",
       "}(window));"
      ],
      "application/vnd.bokehjs_load.v0+json": "\n(function(root) {\n  function now() {\n    return new Date();\n  }\n\n  var force = true;\n\n  if (typeof (root._bokeh_onload_callbacks) === \"undefined\" || force === true) {\n    root._bokeh_onload_callbacks = [];\n    root._bokeh_is_loading = undefined;\n  }\n\n  \n\n  \n  if (typeof (root._bokeh_timeout) === \"undefined\" || force === true) {\n    root._bokeh_timeout = Date.now() + 5000;\n    root._bokeh_failed_load = false;\n  }\n\n  var NB_LOAD_WARNING = {'data': {'text/html':\n     \"<div style='background-color: #fdd'>\\n\"+\n     \"<p>\\n\"+\n     \"BokehJS does not appear to have successfully loaded. If loading BokehJS from CDN, this \\n\"+\n     \"may be due to a slow or bad network connection. Possible fixes:\\n\"+\n     \"</p>\\n\"+\n     \"<ul>\\n\"+\n     \"<li>re-rerun `output_notebook()` to attempt to load from CDN again, or</li>\\n\"+\n     \"<li>use INLINE resources instead, as so:</li>\\n\"+\n     \"</ul>\\n\"+\n     \"<code>\\n\"+\n     \"from bokeh.resources import INLINE\\n\"+\n     \"output_notebook(resources=INLINE)\\n\"+\n     \"</code>\\n\"+\n     \"</div>\"}};\n\n  function display_loaded() {\n    var el = document.getElementById(\"1001\");\n    if (el != null) {\n      el.textContent = \"BokehJS is loading...\";\n    }\n    if (root.Bokeh !== undefined) {\n      if (el != null) {\n        el.textContent = \"BokehJS \" + root.Bokeh.version + \" successfully loaded.\";\n      }\n    } else if (Date.now() < root._bokeh_timeout) {\n      setTimeout(display_loaded, 100)\n    }\n  }\n\n\n  function run_callbacks() {\n    try {\n      root._bokeh_onload_callbacks.forEach(function(callback) { callback() });\n    }\n    finally {\n      delete root._bokeh_onload_callbacks\n    }\n    console.info(\"Bokeh: all callbacks have finished\");\n  }\n\n  function load_libs(js_urls, callback) {\n    root._bokeh_onload_callbacks.push(callback);\n    if (root._bokeh_is_loading > 0) {\n      console.log(\"Bokeh: BokehJS is being loaded, scheduling callback at\", now());\n      return null;\n    }\n    if (js_urls == null || js_urls.length === 0) {\n      run_callbacks();\n      return null;\n    }\n    console.log(\"Bokeh: BokehJS not loaded, scheduling load and callback at\", now());\n    root._bokeh_is_loading = js_urls.length;\n    for (var i = 0; i < js_urls.length; i++) {\n      var url = js_urls[i];\n      var s = document.createElement('script');\n      s.src = url;\n      s.async = false;\n      s.onreadystatechange = s.onload = function() {\n        root._bokeh_is_loading--;\n        if (root._bokeh_is_loading === 0) {\n          console.log(\"Bokeh: all BokehJS libraries loaded\");\n          run_callbacks()\n        }\n      };\n      s.onerror = function() {\n        console.warn(\"failed to load library \" + url);\n      };\n      console.log(\"Bokeh: injecting script tag for BokehJS library: \", url);\n      document.getElementsByTagName(\"head\")[0].appendChild(s);\n    }\n  };var element = document.getElementById(\"1001\");\n  if (element == null) {\n    console.log(\"Bokeh: ERROR: autoload.js configured with elementid '1001' but no matching script tag was found. \")\n    return false;\n  }\n\n  var js_urls = [\"https://cdn.pydata.org/bokeh/release/bokeh-1.0.2.min.js\", \"https://cdn.pydata.org/bokeh/release/bokeh-widgets-1.0.2.min.js\", \"https://cdn.pydata.org/bokeh/release/bokeh-tables-1.0.2.min.js\", \"https://cdn.pydata.org/bokeh/release/bokeh-gl-1.0.2.min.js\"];\n\n  var inline_js = [\n    function(Bokeh) {\n      Bokeh.set_log_level(\"info\");\n    },\n    \n    function(Bokeh) {\n      \n    },\n    function(Bokeh) {\n      console.log(\"Bokeh: injecting CSS: https://cdn.pydata.org/bokeh/release/bokeh-1.0.2.min.css\");\n      Bokeh.embed.inject_css(\"https://cdn.pydata.org/bokeh/release/bokeh-1.0.2.min.css\");\n      console.log(\"Bokeh: injecting CSS: https://cdn.pydata.org/bokeh/release/bokeh-widgets-1.0.2.min.css\");\n      Bokeh.embed.inject_css(\"https://cdn.pydata.org/bokeh/release/bokeh-widgets-1.0.2.min.css\");\n      console.log(\"Bokeh: injecting CSS: https://cdn.pydata.org/bokeh/release/bokeh-tables-1.0.2.min.css\");\n      Bokeh.embed.inject_css(\"https://cdn.pydata.org/bokeh/release/bokeh-tables-1.0.2.min.css\");\n    }\n  ];\n\n  function run_inline_js() {\n    \n    if ((root.Bokeh !== undefined) || (force === true)) {\n      for (var i = 0; i < inline_js.length; i++) {\n        inline_js[i].call(root, root.Bokeh);\n      }if (force === true) {\n        display_loaded();\n      }} else if (Date.now() < root._bokeh_timeout) {\n      setTimeout(run_inline_js, 100);\n    } else if (!root._bokeh_failed_load) {\n      console.log(\"Bokeh: BokehJS failed to load within specified timeout.\");\n      root._bokeh_failed_load = true;\n    } else if (force !== true) {\n      var cell = $(document.getElementById(\"1001\")).parents('.cell').data().cell;\n      cell.output_area.append_execute_result(NB_LOAD_WARNING)\n    }\n\n  }\n\n  if (root._bokeh_is_loading === 0) {\n    console.log(\"Bokeh: BokehJS loaded, going straight to plotting\");\n    run_inline_js();\n  } else {\n    load_libs(js_urls, function() {\n      console.log(\"Bokeh: BokehJS plotting callback run at\", now());\n      run_inline_js();\n    });\n  }\n}(window));"
     },
     "metadata": {},
     "output_type": "display_data"
    }
   ],
   "source": [
    "output_notebook()"
   ]
  },
  {
   "cell_type": "code",
   "execution_count": 12,
   "metadata": {},
   "outputs": [
    {
     "data": {
      "application/vnd.bokehjs_exec.v0+json": "",
      "text/html": [
       "\n",
       "<script src=\"http://localhost:52711/autoload.js?bokeh-autoload-element=1002&bokeh-absolute-url=http://localhost:52711&resources=none\" id=\"1002\"></script>"
      ]
     },
     "metadata": {
      "application/vnd.bokehjs_exec.v0+json": {
       "server_id": "17991a5c6af143c58f47cddefdbbe851"
      }
     },
     "output_type": "display_data"
    }
   ],
   "source": [
    "def modify_doc0(doc):\n",
    "    # Import the data\n",
    "    rates = pd.read_csv(\"merged_df.csv\", encoding='utf-8')\n",
    "\n",
    "    mean_fees = rates.groupby([\"from\", \"to\", \"bank\"], as_index = False).agg(\"mean\")\n",
    "    mean_fees[\"from_to\"] = mean_fees[\"from\"] + \" to \" + mean_fees[\"to\"]\n",
    "    mean_fees[\"bank_to_market_rate\"] = mean_fees[\"rate\"] / mean_fees[\"market_rate\"] * 100\n",
    "\n",
    "    bank = \"Česká spořitelna\"\n",
    "    data_filtered = mean_fees[mean_fees.bank == bank].sort_values(\"bank_to_market_rate\")\n",
    "\n",
    "    source = ColumnDataSource(data={\"from_to\" : data_filtered.from_to,\n",
    "                                    \"bank\" : data_filtered.bank,\n",
    "                                    \"bank_to_market_rate\" : data_filtered.bank_to_market_rate})\n",
    "\n",
    "    from_to_options = data_filtered.from_to.unique().tolist()\n",
    "    \n",
    "    bank_options = mean_fees.bank.unique().tolist()\n",
    "    select_bank = Select(title=\"Bank:\", value=\"Česká spořitelna\", options = bank_options)\n",
    "    \n",
    "    \n",
    "    def callback(attr, old, new):\n",
    "        bank_updated = select_bank.value\n",
    "        \n",
    "        data_filtered_updated = mean_fees[mean_fees.bank == bank_updated].sort_values(\"bank_to_market_rate\")\n",
    "        \n",
    "        source.data = {\"from_to\" : data_filtered_updated.from_to,\n",
    "                       \"bank\" : data_filtered_updated.bank,\n",
    "                       \"bank_to_market_rate\" : data_filtered_updated.bank_to_market_rate}\n",
    "        \n",
    "        from_to_options_updated = data_filtered_updated.from_to.unique().tolist()\n",
    "        \n",
    "        p.y_range.factors = [] \n",
    "        p.y_range.factors = from_to_options_updated\n",
    "        \n",
    "        \n",
    "    # This code ensures that the callback function \"listens\" to the selectors  \n",
    "    select_bank.on_change(\"value\", callback)\n",
    "\n",
    "    p = figure(y_range=from_to_options, x_range=(70, 105), plot_height=620, title=\"Bank and market rates compared\")\n",
    "   \n",
    "    p.hbar(y=dodge('from_to', 0, range=p.y_range), right='bank_to_market_rate', height=0.2, source=source,\n",
    "           color=\"#e84d60\")\n",
    "    \n",
    "    # Define the layout of the app\n",
    "    layout = column(select_bank,  p)\n",
    "    \n",
    "    \n",
    "    # Add the plot to the current document\n",
    "    doc.add_root(layout)\n",
    "\n",
    "show(modify_doc0)"
   ]
  },
  {
   "cell_type": "code",
   "execution_count": 13,
   "metadata": {},
   "outputs": [
    {
     "data": {
      "application/vnd.bokehjs_exec.v0+json": "",
      "text/html": [
       "\n",
       "<script src=\"http://localhost:52719/autoload.js?bokeh-autoload-element=1331&bokeh-absolute-url=http://localhost:52719&resources=none\" id=\"1331\"></script>"
      ]
     },
     "metadata": {
      "application/vnd.bokehjs_exec.v0+json": {
       "server_id": "e5aef0e1e59f47cd8ca1184b9e887ce7"
      }
     },
     "output_type": "display_data"
    }
   ],
   "source": [
    "def modify_doc01(doc):\n",
    "    # Import the data\n",
    "    rates = pd.read_csv(\"merged_df.csv\", encoding='utf-8')\n",
    "\n",
    "    mean_fees = rates.groupby([\"from\", \"to\", \"bank\"], as_index = False).agg(\"mean\")\n",
    "    mean_fees[\"from_to\"] = mean_fees[\"from\"] + \" to \" + mean_fees[\"to\"]\n",
    "\n",
    "    bank = \"Česká spořitelna\"\n",
    "    data_filtered = mean_fees[mean_fees.bank == bank].sort_values(\"market_rate\")\n",
    "\n",
    "    source = ColumnDataSource(data={\"from_to\" : data_filtered.from_to,\n",
    "                                    \"bank\" : data_filtered.bank,\n",
    "                                    \"bank_rate\" : data_filtered.rate,\n",
    "                                    \"market_rate\" : data_filtered.market_rate})\n",
    "\n",
    "    from_to_options = data_filtered.from_to.unique().tolist()\n",
    "    \n",
    "    bank_options = mean_fees.bank.unique().tolist()\n",
    "    select_bank = Select(title=\"Bank:\", value=\"Česká spořitelna\", options = bank_options)\n",
    "    \n",
    "    \n",
    "    def callback(attr, old, new):\n",
    "        bank_updated = select_bank.value\n",
    "        \n",
    "        data_filtered_updated = mean_fees[mean_fees.bank == bank_updated].sort_values(\"market_rate\")\n",
    "        \n",
    "        source.data = data={\"from_to\" : data_filtered_updated.from_to,\n",
    "                            \"bank\" : data_filtered_updated.bank,\n",
    "                            \"bank_rate\" : data_filtered_updated.rate,\n",
    "                            \"market_rate\" : data_filtered_updated.market_rate}\n",
    "        \n",
    "        from_to_options_updated = data_filtered_updated.from_to.unique().tolist()\n",
    "        \n",
    "        p.y_range.factors = [] \n",
    "        p.y_range.factors = from_to_options_updated\n",
    "        \n",
    "        p.x_range.start = 0\n",
    "        p.x_range.end = source.data[\"rate\"].max() * 1.05\n",
    "        \n",
    "        \n",
    "    # This code ensures that the callback function \"listens\" to the selectors  \n",
    "    select_bank.on_change(\"value\", callback)\n",
    "\n",
    "    p = figure(y_range=FactorRange(factors=from_to_options), plot_height=620, \n",
    "               title=\"Comparison of average bank rate and average mid-market rate\")\n",
    "   \n",
    "    p.hbar(y=dodge('from_to', -0.15, range=p.y_range), right='bank_rate', height=0.2, source=source,\n",
    "           color=\"#c9d9d3\", legend=value(\"Bank rate\"))\n",
    "\n",
    "    p.hbar(y=dodge('from_to', 0.15, range=p.y_range), right='market_rate', height=0.2, source=source,\n",
    "           color=\"#e84d60\", legend=value(\"Market rate\"))\n",
    "    \n",
    "    p.legend.location = \"bottom_right\"\n",
    "\n",
    "    \n",
    "    # Define the layout of the app\n",
    "    layout = column(select_bank,  p)\n",
    "    \n",
    "    \n",
    "    # Add the plot to the current document\n",
    "    doc.add_root(layout)\n",
    "\n",
    "show(modify_doc01)"
   ]
  },
  {
   "cell_type": "code",
   "execution_count": 14,
   "metadata": {},
   "outputs": [],
   "source": [
    "import statsmodels.formula.api as smf\n",
    "import statsmodels.api as sm"
   ]
  },
  {
   "cell_type": "markdown",
   "metadata": {},
   "source": [
    "We now move on to fitting the models.\n",
    "\n",
    "We start by simple linear model. The results show that the effect of the market rate volatility on hidden fee markups is postive and significantly different from zero at 10 percent level. Nevertheless, the R-squared of the model is only 0.008 which indicates that markup volatility by itself can explain only small fraction of variability in the fee markups."
   ]
  },
  {
   "cell_type": "code",
   "execution_count": 15,
   "metadata": {},
   "outputs": [
    {
     "data": {
      "text/html": [
       "<table class=\"simpletable\">\n",
       "<caption>OLS Regression Results</caption>\n",
       "<tr>\n",
       "  <th>Dep. Variable:</th>       <td>fee_markup</td>    <th>  R-squared:         </th> <td>   0.012</td>\n",
       "</tr>\n",
       "<tr>\n",
       "  <th>Model:</th>                   <td>OLS</td>       <th>  Adj. R-squared:    </th> <td>   0.009</td>\n",
       "</tr>\n",
       "<tr>\n",
       "  <th>Method:</th>             <td>Least Squares</td>  <th>  F-statistic:       </th> <td>   4.312</td>\n",
       "</tr>\n",
       "<tr>\n",
       "  <th>Date:</th>             <td>Tue, 28 May 2019</td> <th>  Prob (F-statistic):</th>  <td>0.0386</td> \n",
       "</tr>\n",
       "<tr>\n",
       "  <th>Time:</th>                 <td>22:00:45</td>     <th>  Log-Likelihood:    </th> <td> -496.71</td>\n",
       "</tr>\n",
       "<tr>\n",
       "  <th>No. Observations:</th>      <td>   354</td>      <th>  AIC:               </th> <td>   997.4</td>\n",
       "</tr>\n",
       "<tr>\n",
       "  <th>Df Residuals:</th>          <td>   352</td>      <th>  BIC:               </th> <td>   1005.</td>\n",
       "</tr>\n",
       "<tr>\n",
       "  <th>Df Model:</th>              <td>     1</td>      <th>                     </th>     <td> </td>   \n",
       "</tr>\n",
       "<tr>\n",
       "  <th>Covariance Type:</th>      <td>nonrobust</td>    <th>                     </th>     <td> </td>   \n",
       "</tr>\n",
       "</table>\n",
       "<table class=\"simpletable\">\n",
       "<tr>\n",
       "       <td></td>          <th>coef</th>     <th>std err</th>      <th>t</th>      <th>P>|t|</th>  <th>[0.025</th>    <th>0.975]</th>  \n",
       "</tr>\n",
       "<tr>\n",
       "  <th>Intercept</th>   <td>    2.0935</td> <td>    0.101</td> <td>   20.667</td> <td> 0.000</td> <td>    1.894</td> <td>    2.293</td>\n",
       "</tr>\n",
       "<tr>\n",
       "  <th>market_rate</th> <td>    0.2724</td> <td>    0.131</td> <td>    2.076</td> <td> 0.039</td> <td>    0.014</td> <td>    0.530</td>\n",
       "</tr>\n",
       "</table>\n",
       "<table class=\"simpletable\">\n",
       "<tr>\n",
       "  <th>Omnibus:</th>       <td>79.317</td> <th>  Durbin-Watson:     </th> <td>   1.096</td>\n",
       "</tr>\n",
       "<tr>\n",
       "  <th>Prob(Omnibus):</th> <td> 0.000</td> <th>  Jarque-Bera (JB):  </th> <td> 178.529</td>\n",
       "</tr>\n",
       "<tr>\n",
       "  <th>Skew:</th>          <td> 1.123</td> <th>  Prob(JB):          </th> <td>1.71e-39</td>\n",
       "</tr>\n",
       "<tr>\n",
       "  <th>Kurtosis:</th>      <td> 5.657</td> <th>  Cond. No.          </th> <td>    3.72</td>\n",
       "</tr>\n",
       "</table><br/><br/>Warnings:<br/>[1] Standard Errors assume that the covariance matrix of the errors is correctly specified."
      ],
      "text/plain": [
       "<class 'statsmodels.iolib.summary.Summary'>\n",
       "\"\"\"\n",
       "                            OLS Regression Results                            \n",
       "==============================================================================\n",
       "Dep. Variable:             fee_markup   R-squared:                       0.012\n",
       "Model:                            OLS   Adj. R-squared:                  0.009\n",
       "Method:                 Least Squares   F-statistic:                     4.312\n",
       "Date:                Tue, 28 May 2019   Prob (F-statistic):             0.0386\n",
       "Time:                        22:00:45   Log-Likelihood:                -496.71\n",
       "No. Observations:                 354   AIC:                             997.4\n",
       "Df Residuals:                     352   BIC:                             1005.\n",
       "Df Model:                           1                                         \n",
       "Covariance Type:            nonrobust                                         \n",
       "===============================================================================\n",
       "                  coef    std err          t      P>|t|      [0.025      0.975]\n",
       "-------------------------------------------------------------------------------\n",
       "Intercept       2.0935      0.101     20.667      0.000       1.894       2.293\n",
       "market_rate     0.2724      0.131      2.076      0.039       0.014       0.530\n",
       "==============================================================================\n",
       "Omnibus:                       79.317   Durbin-Watson:                   1.096\n",
       "Prob(Omnibus):                  0.000   Jarque-Bera (JB):              178.529\n",
       "Skew:                           1.123   Prob(JB):                     1.71e-39\n",
       "Kurtosis:                       5.657   Cond. No.                         3.72\n",
       "==============================================================================\n",
       "\n",
       "Warnings:\n",
       "[1] Standard Errors assume that the covariance matrix of the errors is correctly specified.\n",
       "\"\"\""
      ]
     },
     "execution_count": 15,
     "metadata": {},
     "output_type": "execute_result"
    }
   ],
   "source": [
    "mod_simple = smf.ols(formula='fee_markup ~ market_rate', data=avg_fees)\n",
    "results_simple = mod_simple.fit()\n",
    "\n",
    "results_simple.summary()"
   ]
  },
  {
   "cell_type": "markdown",
   "metadata": {},
   "source": [
    "In our second model, we add dummy variables for each bank. This improves the fit of the model considerably. Moreover, coefficient on rate volatility is still positive (even slightly larger) and significant. However, the standard errors of the model could be biased due to the potential heteroskedasticity. For this reason, we refit the model with heteroskedasticity robust SE. "
   ]
  },
  {
   "cell_type": "code",
   "execution_count": 16,
   "metadata": {},
   "outputs": [
    {
     "data": {
      "text/html": [
       "<table class=\"simpletable\">\n",
       "<caption>OLS Regression Results</caption>\n",
       "<tr>\n",
       "  <th>Dep. Variable:</th>       <td>fee_markup</td>    <th>  R-squared:         </th> <td>   0.610</td>\n",
       "</tr>\n",
       "<tr>\n",
       "  <th>Model:</th>                   <td>OLS</td>       <th>  Adj. R-squared:    </th> <td>   0.599</td>\n",
       "</tr>\n",
       "<tr>\n",
       "  <th>Method:</th>             <td>Least Squares</td>  <th>  F-statistic:       </th> <td>   53.75</td>\n",
       "</tr>\n",
       "<tr>\n",
       "  <th>Date:</th>             <td>Tue, 28 May 2019</td> <th>  Prob (F-statistic):</th> <td>3.24e-64</td>\n",
       "</tr>\n",
       "<tr>\n",
       "  <th>Time:</th>                 <td>22:01:03</td>     <th>  Log-Likelihood:    </th> <td> -332.00</td>\n",
       "</tr>\n",
       "<tr>\n",
       "  <th>No. Observations:</th>      <td>   354</td>      <th>  AIC:               </th> <td>   686.0</td>\n",
       "</tr>\n",
       "<tr>\n",
       "  <th>Df Residuals:</th>          <td>   343</td>      <th>  BIC:               </th> <td>   728.6</td>\n",
       "</tr>\n",
       "<tr>\n",
       "  <th>Df Model:</th>              <td>    10</td>      <th>                     </th>     <td> </td>   \n",
       "</tr>\n",
       "<tr>\n",
       "  <th>Covariance Type:</th>      <td>nonrobust</td>    <th>                     </th>     <td> </td>   \n",
       "</tr>\n",
       "</table>\n",
       "<table class=\"simpletable\">\n",
       "<tr>\n",
       "                 <td></td>                    <th>coef</th>     <th>std err</th>      <th>t</th>      <th>P>|t|</th>  <th>[0.025</th>    <th>0.975]</th>  \n",
       "</tr>\n",
       "<tr>\n",
       "  <th>Intercept</th>                       <td>    2.2608</td> <td>    0.130</td> <td>   17.412</td> <td> 0.000</td> <td>    2.005</td> <td>    2.516</td>\n",
       "</tr>\n",
       "<tr>\n",
       "  <th>C(bank)[T.Komerční banka]</th>       <td>    0.5681</td> <td>    0.158</td> <td>    3.590</td> <td> 0.000</td> <td>    0.257</td> <td>    0.879</td>\n",
       "</tr>\n",
       "<tr>\n",
       "  <th>C(bank)[T.OTP Bank]</th>             <td>   -1.5797</td> <td>    0.153</td> <td>  -10.357</td> <td> 0.000</td> <td>   -1.880</td> <td>   -1.280</td>\n",
       "</tr>\n",
       "<tr>\n",
       "  <th>C(bank)[T.Raiffeisenbank]</th>       <td>    0.6013</td> <td>    0.156</td> <td>    3.844</td> <td> 0.000</td> <td>    0.294</td> <td>    0.909</td>\n",
       "</tr>\n",
       "<tr>\n",
       "  <th>C(bank)[T.Slovenská sporiteľňa]</th> <td>   -1.0126</td> <td>    0.156</td> <td>   -6.475</td> <td> 0.000</td> <td>   -1.320</td> <td>   -0.705</td>\n",
       "</tr>\n",
       "<tr>\n",
       "  <th>C(bank)[T.Tatra banka]</th>          <td>   -0.8075</td> <td>    0.160</td> <td>   -5.039</td> <td> 0.000</td> <td>   -1.123</td> <td>   -0.492</td>\n",
       "</tr>\n",
       "<tr>\n",
       "  <th>C(bank)[T.VÚB banka]</th>            <td>   -0.7109</td> <td>    0.158</td> <td>   -4.493</td> <td> 0.000</td> <td>   -1.022</td> <td>   -0.400</td>\n",
       "</tr>\n",
       "<tr>\n",
       "  <th>C(bank)[T.mBank]</th>                <td>    0.4445</td> <td>    0.175</td> <td>    2.544</td> <td> 0.011</td> <td>    0.101</td> <td>    0.788</td>\n",
       "</tr>\n",
       "<tr>\n",
       "  <th>C(bank)[T.ČSOB]</th>                 <td>    0.5574</td> <td>    0.160</td> <td>    3.477</td> <td> 0.001</td> <td>    0.242</td> <td>    0.873</td>\n",
       "</tr>\n",
       "<tr>\n",
       "  <th>C(bank)[T.Česká spořitelna]</th>     <td>    0.0309</td> <td>    0.153</td> <td>    0.202</td> <td> 0.840</td> <td>   -0.270</td> <td>    0.332</td>\n",
       "</tr>\n",
       "<tr>\n",
       "  <th>market_rate</th>                     <td>    0.3905</td> <td>    0.084</td> <td>    4.633</td> <td> 0.000</td> <td>    0.225</td> <td>    0.556</td>\n",
       "</tr>\n",
       "</table>\n",
       "<table class=\"simpletable\">\n",
       "<tr>\n",
       "  <th>Omnibus:</th>       <td>276.933</td> <th>  Durbin-Watson:     </th> <td>   1.696</td>\n",
       "</tr>\n",
       "<tr>\n",
       "  <th>Prob(Omnibus):</th> <td> 0.000</td>  <th>  Jarque-Bera (JB):  </th> <td>3167.348</td>\n",
       "</tr>\n",
       "<tr>\n",
       "  <th>Skew:</th>          <td> 3.376</td>  <th>  Prob(JB):          </th> <td>    0.00</td>\n",
       "</tr>\n",
       "<tr>\n",
       "  <th>Kurtosis:</th>      <td>16.006</td>  <th>  Cond. No.          </th> <td>    14.7</td>\n",
       "</tr>\n",
       "</table><br/><br/>Warnings:<br/>[1] Standard Errors assume that the covariance matrix of the errors is correctly specified."
      ],
      "text/plain": [
       "<class 'statsmodels.iolib.summary.Summary'>\n",
       "\"\"\"\n",
       "                            OLS Regression Results                            \n",
       "==============================================================================\n",
       "Dep. Variable:             fee_markup   R-squared:                       0.610\n",
       "Model:                            OLS   Adj. R-squared:                  0.599\n",
       "Method:                 Least Squares   F-statistic:                     53.75\n",
       "Date:                Tue, 28 May 2019   Prob (F-statistic):           3.24e-64\n",
       "Time:                        22:01:03   Log-Likelihood:                -332.00\n",
       "No. Observations:                 354   AIC:                             686.0\n",
       "Df Residuals:                     343   BIC:                             728.6\n",
       "Df Model:                          10                                         \n",
       "Covariance Type:            nonrobust                                         \n",
       "===================================================================================================\n",
       "                                      coef    std err          t      P>|t|      [0.025      0.975]\n",
       "---------------------------------------------------------------------------------------------------\n",
       "Intercept                           2.2608      0.130     17.412      0.000       2.005       2.516\n",
       "C(bank)[T.Komerční banka]           0.5681      0.158      3.590      0.000       0.257       0.879\n",
       "C(bank)[T.OTP Bank]                -1.5797      0.153    -10.357      0.000      -1.880      -1.280\n",
       "C(bank)[T.Raiffeisenbank]           0.6013      0.156      3.844      0.000       0.294       0.909\n",
       "C(bank)[T.Slovenská sporiteľňa]    -1.0126      0.156     -6.475      0.000      -1.320      -0.705\n",
       "C(bank)[T.Tatra banka]             -0.8075      0.160     -5.039      0.000      -1.123      -0.492\n",
       "C(bank)[T.VÚB banka]               -0.7109      0.158     -4.493      0.000      -1.022      -0.400\n",
       "C(bank)[T.mBank]                    0.4445      0.175      2.544      0.011       0.101       0.788\n",
       "C(bank)[T.ČSOB]                     0.5574      0.160      3.477      0.001       0.242       0.873\n",
       "C(bank)[T.Česká spořitelna]         0.0309      0.153      0.202      0.840      -0.270       0.332\n",
       "market_rate                         0.3905      0.084      4.633      0.000       0.225       0.556\n",
       "==============================================================================\n",
       "Omnibus:                      276.933   Durbin-Watson:                   1.696\n",
       "Prob(Omnibus):                  0.000   Jarque-Bera (JB):             3167.348\n",
       "Skew:                           3.376   Prob(JB):                         0.00\n",
       "Kurtosis:                      16.006   Cond. No.                         14.7\n",
       "==============================================================================\n",
       "\n",
       "Warnings:\n",
       "[1] Standard Errors assume that the covariance matrix of the errors is correctly specified.\n",
       "\"\"\""
      ]
     },
     "execution_count": 16,
     "metadata": {},
     "output_type": "execute_result"
    }
   ],
   "source": [
    "mod = smf.ols(formula='fee_markup ~ market_rate + C(bank)', data=avg_fees)\n",
    "results = mod.fit()\n",
    "\n",
    "results.summary()"
   ]
  },
  {
   "cell_type": "markdown",
   "metadata": {},
   "source": [
    "The heteroskedasticity robust are indeed slightly larger than their non-robust counterparts. However, the effect of market rate volatility still remains significant."
   ]
  },
  {
   "cell_type": "code",
   "execution_count": 17,
   "metadata": {},
   "outputs": [
    {
     "data": {
      "text/html": [
       "<table class=\"simpletable\">\n",
       "<caption>OLS Regression Results</caption>\n",
       "<tr>\n",
       "  <th>Dep. Variable:</th>       <td>fee_markup</td>    <th>  R-squared:         </th> <td>   0.610</td> \n",
       "</tr>\n",
       "<tr>\n",
       "  <th>Model:</th>                   <td>OLS</td>       <th>  Adj. R-squared:    </th> <td>   0.599</td> \n",
       "</tr>\n",
       "<tr>\n",
       "  <th>Method:</th>             <td>Least Squares</td>  <th>  F-statistic:       </th> <td>   547.0</td> \n",
       "</tr>\n",
       "<tr>\n",
       "  <th>Date:</th>             <td>Tue, 28 May 2019</td> <th>  Prob (F-statistic):</th> <td>4.79e-204</td>\n",
       "</tr>\n",
       "<tr>\n",
       "  <th>Time:</th>                 <td>22:01:09</td>     <th>  Log-Likelihood:    </th> <td> -332.00</td> \n",
       "</tr>\n",
       "<tr>\n",
       "  <th>No. Observations:</th>      <td>   354</td>      <th>  AIC:               </th> <td>   686.0</td> \n",
       "</tr>\n",
       "<tr>\n",
       "  <th>Df Residuals:</th>          <td>   343</td>      <th>  BIC:               </th> <td>   728.6</td> \n",
       "</tr>\n",
       "<tr>\n",
       "  <th>Df Model:</th>              <td>    10</td>      <th>                     </th>     <td> </td>    \n",
       "</tr>\n",
       "<tr>\n",
       "  <th>Covariance Type:</th>         <td>HC1</td>       <th>                     </th>     <td> </td>    \n",
       "</tr>\n",
       "</table>\n",
       "<table class=\"simpletable\">\n",
       "<tr>\n",
       "                 <td></td>                    <th>coef</th>     <th>std err</th>      <th>t</th>      <th>P>|t|</th>  <th>[0.025</th>    <th>0.975]</th>  \n",
       "</tr>\n",
       "<tr>\n",
       "  <th>Intercept</th>                       <td>    2.2608</td> <td>    0.075</td> <td>   29.946</td> <td> 0.000</td> <td>    2.112</td> <td>    2.409</td>\n",
       "</tr>\n",
       "<tr>\n",
       "  <th>C(bank)[T.Komerční banka]</th>       <td>    0.5681</td> <td>    0.158</td> <td>    3.592</td> <td> 0.000</td> <td>    0.257</td> <td>    0.879</td>\n",
       "</tr>\n",
       "<tr>\n",
       "  <th>C(bank)[T.OTP Bank]</th>             <td>   -1.5797</td> <td>    0.042</td> <td>  -37.362</td> <td> 0.000</td> <td>   -1.663</td> <td>   -1.497</td>\n",
       "</tr>\n",
       "<tr>\n",
       "  <th>C(bank)[T.Raiffeisenbank]</th>       <td>    0.6013</td> <td>    0.048</td> <td>   12.530</td> <td> 0.000</td> <td>    0.507</td> <td>    0.696</td>\n",
       "</tr>\n",
       "<tr>\n",
       "  <th>C(bank)[T.Slovenská sporiteľňa]</th> <td>   -1.0126</td> <td>    0.044</td> <td>  -22.776</td> <td> 0.000</td> <td>   -1.100</td> <td>   -0.925</td>\n",
       "</tr>\n",
       "<tr>\n",
       "  <th>C(bank)[T.Tatra banka]</th>          <td>   -0.8075</td> <td>    0.146</td> <td>   -5.548</td> <td> 0.000</td> <td>   -1.094</td> <td>   -0.521</td>\n",
       "</tr>\n",
       "<tr>\n",
       "  <th>C(bank)[T.VÚB banka]</th>            <td>   -0.7109</td> <td>    0.134</td> <td>   -5.319</td> <td> 0.000</td> <td>   -0.974</td> <td>   -0.448</td>\n",
       "</tr>\n",
       "<tr>\n",
       "  <th>C(bank)[T.mBank]</th>                <td>    0.4445</td> <td>    0.044</td> <td>   10.041</td> <td> 0.000</td> <td>    0.357</td> <td>    0.532</td>\n",
       "</tr>\n",
       "<tr>\n",
       "  <th>C(bank)[T.ČSOB]</th>                 <td>    0.5574</td> <td>    0.214</td> <td>    2.599</td> <td> 0.010</td> <td>    0.136</td> <td>    0.979</td>\n",
       "</tr>\n",
       "<tr>\n",
       "  <th>C(bank)[T.Česká spořitelna]</th>     <td>    0.0309</td> <td>    0.062</td> <td>    0.501</td> <td> 0.617</td> <td>   -0.091</td> <td>    0.152</td>\n",
       "</tr>\n",
       "<tr>\n",
       "  <th>market_rate</th>                     <td>    0.3905</td> <td>    0.110</td> <td>    3.539</td> <td> 0.000</td> <td>    0.173</td> <td>    0.608</td>\n",
       "</tr>\n",
       "</table>\n",
       "<table class=\"simpletable\">\n",
       "<tr>\n",
       "  <th>Omnibus:</th>       <td>276.933</td> <th>  Durbin-Watson:     </th> <td>   1.696</td>\n",
       "</tr>\n",
       "<tr>\n",
       "  <th>Prob(Omnibus):</th> <td> 0.000</td>  <th>  Jarque-Bera (JB):  </th> <td>3167.348</td>\n",
       "</tr>\n",
       "<tr>\n",
       "  <th>Skew:</th>          <td> 3.376</td>  <th>  Prob(JB):          </th> <td>    0.00</td>\n",
       "</tr>\n",
       "<tr>\n",
       "  <th>Kurtosis:</th>      <td>16.006</td>  <th>  Cond. No.          </th> <td>    14.7</td>\n",
       "</tr>\n",
       "</table><br/><br/>Warnings:<br/>[1] Standard Errors are heteroscedasticity robust (HC1)"
      ],
      "text/plain": [
       "<class 'statsmodels.iolib.summary.Summary'>\n",
       "\"\"\"\n",
       "                            OLS Regression Results                            \n",
       "==============================================================================\n",
       "Dep. Variable:             fee_markup   R-squared:                       0.610\n",
       "Model:                            OLS   Adj. R-squared:                  0.599\n",
       "Method:                 Least Squares   F-statistic:                     547.0\n",
       "Date:                Tue, 28 May 2019   Prob (F-statistic):          4.79e-204\n",
       "Time:                        22:01:09   Log-Likelihood:                -332.00\n",
       "No. Observations:                 354   AIC:                             686.0\n",
       "Df Residuals:                     343   BIC:                             728.6\n",
       "Df Model:                          10                                         \n",
       "Covariance Type:                  HC1                                         \n",
       "===================================================================================================\n",
       "                                      coef    std err          t      P>|t|      [0.025      0.975]\n",
       "---------------------------------------------------------------------------------------------------\n",
       "Intercept                           2.2608      0.075     29.946      0.000       2.112       2.409\n",
       "C(bank)[T.Komerční banka]           0.5681      0.158      3.592      0.000       0.257       0.879\n",
       "C(bank)[T.OTP Bank]                -1.5797      0.042    -37.362      0.000      -1.663      -1.497\n",
       "C(bank)[T.Raiffeisenbank]           0.6013      0.048     12.530      0.000       0.507       0.696\n",
       "C(bank)[T.Slovenská sporiteľňa]    -1.0126      0.044    -22.776      0.000      -1.100      -0.925\n",
       "C(bank)[T.Tatra banka]             -0.8075      0.146     -5.548      0.000      -1.094      -0.521\n",
       "C(bank)[T.VÚB banka]               -0.7109      0.134     -5.319      0.000      -0.974      -0.448\n",
       "C(bank)[T.mBank]                    0.4445      0.044     10.041      0.000       0.357       0.532\n",
       "C(bank)[T.ČSOB]                     0.5574      0.214      2.599      0.010       0.136       0.979\n",
       "C(bank)[T.Česká spořitelna]         0.0309      0.062      0.501      0.617      -0.091       0.152\n",
       "market_rate                         0.3905      0.110      3.539      0.000       0.173       0.608\n",
       "==============================================================================\n",
       "Omnibus:                      276.933   Durbin-Watson:                   1.696\n",
       "Prob(Omnibus):                  0.000   Jarque-Bera (JB):             3167.348\n",
       "Skew:                           3.376   Prob(JB):                         0.00\n",
       "Kurtosis:                      16.006   Cond. No.                         14.7\n",
       "==============================================================================\n",
       "\n",
       "Warnings:\n",
       "[1] Standard Errors are heteroscedasticity robust (HC1)\n",
       "\"\"\""
      ]
     },
     "execution_count": 17,
     "metadata": {},
     "output_type": "execute_result"
    }
   ],
   "source": [
    "result_robust = results.get_robustcov_results()\n",
    "result_robust.summary()"
   ]
  },
  {
   "cell_type": "markdown",
   "metadata": {},
   "source": [
    "## Historical exchange rates by currency and bank\n",
    "In this part, we built a Bokeh application in which the user can choose a route and bank and the app will show the historical exchange rates. "
   ]
  },
  {
   "cell_type": "markdown",
   "metadata": {},
   "source": [
    "We define the Bokeh app"
   ]
  },
  {
   "cell_type": "code",
   "execution_count": 18,
   "metadata": {},
   "outputs": [],
   "source": [
    "def modify_doc(doc):\n",
    "    # Import the data\n",
    "    rates = pd.read_csv(\"merged_df.csv\", encoding='utf-8')\n",
    "    rates['date'] = pd.to_datetime(rates['date'])\n",
    "    rates = rates.rename(columns={'from':'from_cur', 'to':'to_cur'})\n",
    "    \n",
    "    # Set the inital exchange rate and bank\n",
    "    from_currency = \"EUR\"\n",
    "    to_currency = \"CZK\"\n",
    "    bank = \"Česká spořitelna\"\n",
    "\n",
    "    # Filter the dataset\n",
    "    data_filtered = rates[(rates[\"from_cur\"] == from_currency) & (rates[\"to_cur\"] == to_currency)&\n",
    "                         (rates[\"bank\"] == bank)]\n",
    "    \n",
    "    # Convert the dataset to ColumnDataSource (a format that is more suitable for Bokeh)\n",
    "    source = ColumnDataSource(dict(date = data_filtered.date, from_cur = data_filtered.from_cur,\n",
    "                                   to_cur = data_filtered.to_cur, rate = data_filtered.rate, \n",
    "                                  bank = data_filtered.bank))\n",
    "    currency_options_source = ColumnDataSource(dict(from_options = rates[rates.bank == bank].from_cur.unique().tolist(),\n",
    "                                                    to_options = rates[rates.bank == bank].to_cur.unique().tolist()))\n",
    "    \n",
    "    # Here we make the plot itself \n",
    "    plot_it = figure(plot_width=800, plot_height=250, x_axis_type=\"datetime\", title = \"Exchange rate\", \n",
    "                    x_axis_label= 'Date', y_axis_label = \"Rate\")\n",
    "    plot_it.line(x = 'date', y = \"rate\", line_width = 3 , source = source)\n",
    "    \n",
    "    # Add hovertool (a box that shows the rate and date of the point over which mouse hovers in the moment)  \n",
    "    plot_it.add_tools(HoverTool(\n",
    "        tooltips=[(\"rate\", \"@rate\"), (\"date\", \"@date{%F}\")],\n",
    "        formatters={'date': 'datetime'},\n",
    "        mode = \"vline\"))\n",
    "  \n",
    "        \n",
    "    # Define options for the selectors    \n",
    "    bank_options = rates.bank.unique().tolist()\n",
    "    from_options = currency_options_source.data.get(\"from_options\")\n",
    "    to_options = currency_options_source.data.get(\"to_options\")\n",
    "\n",
    "    # Define the selectors themselves\n",
    "    select_from_currency = Select(title=\"From:\", value=\"EUR\", options = from_options)\n",
    "    select_to_currency   = Select(title=\"To:\", value=\"CZK\", options = to_options)\n",
    "    select_bank          = Select(title=\"Bank:\", value=\"Česká spořitelna\", options = bank_options)\n",
    "     \n",
    "        \n",
    "    # We define a Bokeh callback function which take the values from the selctors and update the ColumnDataSource         \n",
    "    def callback(attr, old, new):\n",
    "        from_currency_updated = select_from_currency.value\n",
    "        to_currency_updated = select_to_currency.value\n",
    "        bank_updated = select_bank.value\n",
    "        \n",
    "        data_filtered = rates[(rates[\"from_cur\"] == from_currency_updated) & (rates[\"to_cur\"] == to_currency_updated) &\n",
    "                              (rates[\"bank\"] == bank_updated)]\n",
    "        source.data = {\"date\" : data_filtered.date, \"to_cur\" : data_filtered.to_cur, \"from_cur\" : data_filtered.from_cur, \n",
    "                       \"rate\" : data_filtered.rate,\n",
    "                       \"bank\": data_filtered.bank}\n",
    "        \n",
    "        currency_options_source.data = {\"from_options\": rates[rates.bank == bank_updated].from_cur.unique().tolist(),\n",
    "                                        \"to_options\": rates[rates.bank == bank_updated].to_cur.unique().tolist()}\n",
    "        from_options = currency_options_source.data.get(\"from_options\")\n",
    "        to_options = currency_options_source.data.get(\"to_options\")    \n",
    "      \n",
    "        \n",
    "        \n",
    "    # This code ensures that the callback function \"listens\" to the selectors  \n",
    "    select_from_currency.on_change(\"value\", callback)\n",
    "    select_to_currency.on_change(\"value\", callback)\n",
    "    select_bank.on_change(\"value\", callback)\n",
    "\n",
    "    # Define the layout of the app\n",
    "    layout = column(row(select_bank, select_from_currency, select_to_currency), plot_it)\n",
    "    \n",
    "    \n",
    "    # Add the plot to the current document\n",
    "    doc.add_root(layout)"
   ]
  },
  {
   "cell_type": "markdown",
   "metadata": {},
   "source": [
    "### Show the app\n",
    "*Be aware that for banks do not offer all currency pairs in the list.*"
   ]
  },
  {
   "cell_type": "code",
   "execution_count": 19,
   "metadata": {
    "scrolled": true
   },
   "outputs": [
    {
     "data": {
      "application/vnd.bokehjs_exec.v0+json": "",
      "text/html": [
       "\n",
       "<script src=\"http://localhost:52724/autoload.js?bokeh-autoload-element=1619&bokeh-absolute-url=http://localhost:52724&resources=none\" id=\"1619\"></script>"
      ]
     },
     "metadata": {
      "application/vnd.bokehjs_exec.v0+json": {
       "server_id": "ecd968148f604e30aa266b76022ea2bc"
      }
     },
     "output_type": "display_data"
    }
   ],
   "source": [
    "show(modify_doc)"
   ]
  },
  {
   "cell_type": "markdown",
   "metadata": {},
   "source": [
    "## Hidden fees by bank\n",
    "This Bokeh application allows the user to select a route, amount to exchange, and date and then compares hidden fees by banks and shows which bank offers the best exchage rate (with the lowest hidden fee)."
   ]
  },
  {
   "cell_type": "code",
   "execution_count": 20,
   "metadata": {},
   "outputs": [],
   "source": [
    "def modify_doc2(doc):\n",
    "    # Import data\n",
    "    rates = pd.read_csv(\"merged_df.csv\", encoding='utf-8')\n",
    "    rates['date'] = pd.to_datetime(rates['date'])\n",
    "\n",
    "    # Set initial currencies, amount to exchange, and date\n",
    "    from_currency = \"EUR\"\n",
    "    to_currency = \"CZK\"\n",
    "    amount_to_exchange = 1\n",
    "    most_recent_date = rates['date'].max()\n",
    "    \n",
    "    # Filter the data accordingly\n",
    "    data_filtered = rates[(rates[\"from\"] == from_currency) & (rates[\"to\"] == to_currency) \n",
    "                          & (rates['date'] == most_recent_date)]\n",
    "    \n",
    "    # Sort by amount of hidden fees\n",
    "    data_filtered = data_filtered.sort_values('hidden_fee')\n",
    "    \n",
    "    # Select bank with the lowest hidden fee\n",
    "    lowest_fee_bank = data_filtered.iloc[0, 3]\n",
    "    \n",
    "    # Create the ColumnDataSource\n",
    "    source = ColumnDataSource(dict(date = data_filtered.date, to = data_filtered.to, \n",
    "                                   rate = data_filtered.rate, \n",
    "                                   bank = data_filtered.bank,\n",
    "                                   market_rate = data_filtered.market_rate, \n",
    "                                   hidden_fee = data_filtered.hidden_fee))\n",
    "    \n",
    "    # Amount of foreign currency and hidden fee we will get from the baest exhange rate \n",
    "    # Note that data is already sorted by hidden fee and thus choosing the first row gets us the lowest hidden fee rate\n",
    "    amount_of_foreign_cur =str(round(data_filtered.iloc[0, 2] * amount_to_exchange, 3))\n",
    "    amount_hidden_fee = str(round(data_filtered.iloc[0, 6] * amount_to_exchange, 3))\n",
    "    \n",
    "    # Text that shows which bank offers the best echange rate, amount you will get, and hidden fee\n",
    "    text_to_display = \"\"\"<font size=\"+1\"> The best exchange rate is offered by \n",
    "    <b>\"\"\" + lowest_fee_bank + \"\"\"\n",
    "    </b>. <br> You will get <b>\"\"\"+  amount_of_foreign_cur + \" \" + to_currency + \\\n",
    "    \"\"\"</b>. <br> The hidden fee is <b>\"\"\" + amount_hidden_fee + \" \" + to_currency + \"\"\"</b>.\"\"\"\n",
    "    \n",
    "    \n",
    "    # Set the options for the selectors\n",
    "    banks_available = source.data[\"bank\"].tolist()\n",
    "    from_options = rates[\"from\"].unique().tolist()\n",
    "    to_options = rates[\"to\"].unique().tolist()\n",
    "    # Note that we have to convert the dates to string\n",
    "    date_options = [dt.strftime(\"%b %d, %Y\") for dt in list(sorted(set(rates[\"date\"].tolist())))]\n",
    "    \n",
    "    # Define the selctors and text input that takes in the amount for exchange\n",
    "    select_from_currency = Select(title=\"From:\", value=\"EUR\", options = from_options)\n",
    "    select_to_currency   = Select(title=\"To:\", value=\"CZK\", options = to_options)\n",
    "    select_date          = Select(title=\"Date:\", value=most_recent_date.strftime(\"%b %d, %Y\"), options = date_options)\n",
    "    text_input_amount = TextInput(title=\"Amount for exchange:\", value=\"1\")\n",
    "\n",
    "\n",
    "    # Define the Bokeh callback function\n",
    "    def callback(attr, old, new):\n",
    "        from_currency_updated = select_from_currency.value\n",
    "        to_currency_updated = select_to_currency.value\n",
    "        # Here we convert the date from the selector back to datetime format\n",
    "        date_updated = datetime.datetime.strptime(select_date.value, \"%b %d, %Y\") \n",
    "        amount_to_exchange_updated = float(text_input_amount.value)\n",
    "        \n",
    "        # Filter the data based on the new inputs\n",
    "        data_filtered_update = rates[(rates[\"from\"] == from_currency_updated) & (rates[\"to\"] == to_currency_updated)\n",
    "                                    & (rates['date'] == date_updated)]\n",
    "        \n",
    "        data_filtered_update = data_filtered_update.sort_values('hidden_fee')\n",
    "        \n",
    "        lowest_fee_bank_update = data_filtered_update.iloc[0, 3]\n",
    "        amount_of_foreign_cur =str(round(data_filtered_update.iloc[0, 2] * amount_to_exchange_updated, 3))\n",
    "        amount_hidden_fee = str(round(data_filtered_update.iloc[0, 6] * amount_to_exchange_updated, 3))\n",
    "        \n",
    "        # Update the ColumnDataSource based on the new inpunts\n",
    "        source.data = {\"date\" : data_filtered_update.date, \"to\" : data_filtered_update.to,\n",
    "                       \"rate\" : data_filtered_update.rate, \n",
    "                       \"bank\" : data_filtered_update.bank, \n",
    "                       \"market_rate\" : data_filtered_update.market_rate, \n",
    "                       \"hidden_fee\" : data_filtered_update.hidden_fee}\n",
    "       \n",
    "        # We update the range such that it would always start at 0 zero and extend to 1.05 of the maximum hidden fee\n",
    "        plot_it.x_range.start = 0\n",
    "        plot_it.x_range.end = source.data[\"hidden_fee\"].max() * 1.05\n",
    "        \n",
    "        # We uptade the new values in the displayed text\n",
    "        text_to_display_update = \"\"\"<font size=\"+1\"> The best exchange rate is offered by <b>\"\"\" + lowest_fee_bank_update+\\\n",
    "        \"\"\"</b>. <br> You will get <b>\"\"\"+  amount_of_foreign_cur + \" \" + to_currency_updated + \\\n",
    "        \"\"\"</b>. <br> The hidden fee is <b>\"\"\" + amount_hidden_fee + \" \" + to_currency_updated + \"\"\"</b>.\"\"\"\n",
    "        div.text = text_to_display_update\n",
    "\n",
    "    # Again, we ensure that the callback function listens to the inputs    \n",
    "    select_from_currency.on_change(\"value\", callback)\n",
    "    select_to_currency.on_change(\"value\", callback)\n",
    "    select_date.on_change(\"value\", callback)\n",
    "    text_input_amount.on_change(\"value\", callback)\n",
    "   \n",
    "\n",
    "    # Make the plot itself\n",
    "    plot_it = figure(y_range=banks_available, \n",
    "                     plot_height=250, toolbar_location=None, title=\"Hidden fees by bank\")\n",
    "\n",
    "    plot_it.hbar(y='bank', right='hidden_fee', source=source,\n",
    "           line_color='white', height=0.9)\n",
    "    \n",
    "    # Add hovertool    \n",
    "    plot_it.add_tools(HoverTool(\n",
    "        tooltips=[(\"hidden fee\", \"@hidden_fee\")],\n",
    "        mode = \"mouse\"))\n",
    "\n",
    "    # Add DataTable showing hidden fees, bank rates and market rates\n",
    "    columns = [\n",
    "        TableColumn(field=\"bank\", title=\"Bank\"),\n",
    "        TableColumn(field=\"hidden_fee\", title=\"Hidden fee (in foreign currency)\", formatter=NumberFormatter(format=\"0.000\")),\n",
    "        TableColumn(field=\"rate\", title=\"Bank rate\", formatter=NumberFormatter(format=\"0.000\")),\n",
    "        TableColumn(field=\"market_rate\", title=\"Market rate\", formatter=NumberFormatter(format=\"0.000\"))]\n",
    "\n",
    "    data_table = DataTable(source=source, columns=columns, width=600, height = 280)\n",
    "    \n",
    "    # HTML text to display\n",
    "    div = Div(text= text_to_display, width=600, height=100)\n",
    "    div.on_change(\"text\", callback)\n",
    "    \n",
    "    # Set the layout of the app\n",
    "    layout = column(row(select_from_currency, select_to_currency), row(text_input_amount, select_date), div,\n",
    "                    data_table,  plot_it)\n",
    "    \n",
    "    \n",
    "    # Add the plot to the current document\n",
    "    doc.add_root(layout)"
   ]
  },
  {
   "cell_type": "markdown",
   "metadata": {},
   "source": [
    "### Show the app\n",
    "*Be aware that for some currency routes no bank in the dataset offers any exchange.*"
   ]
  },
  {
   "cell_type": "code",
   "execution_count": 21,
   "metadata": {
    "scrolled": false
   },
   "outputs": [
    {
     "data": {
      "application/vnd.bokehjs_exec.v0+json": "",
      "text/html": [
       "\n",
       "<script src=\"http://localhost:52727/autoload.js?bokeh-autoload-element=2085&bokeh-absolute-url=http://localhost:52727&resources=none\" id=\"2085\"></script>"
      ]
     },
     "metadata": {
      "application/vnd.bokehjs_exec.v0+json": {
       "server_id": "8ef2ffcc2c0e4c5a9a5e68009ceb6903"
      }
     },
     "output_type": "display_data"
    }
   ],
   "source": [
    "show(modify_doc2)"
   ]
  }
 ],
 "metadata": {
  "kernelspec": {
   "display_name": "Python 3",
   "language": "python",
   "name": "python3"
  },
  "language_info": {
   "codemirror_mode": {
    "name": "ipython",
    "version": 3
   },
   "file_extension": ".py",
   "mimetype": "text/x-python",
   "name": "python",
   "nbconvert_exporter": "python",
   "pygments_lexer": "ipython3",
   "version": "3.7.1"
  }
 },
 "nbformat": 4,
 "nbformat_minor": 2
}
